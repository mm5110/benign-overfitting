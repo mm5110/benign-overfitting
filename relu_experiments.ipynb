{
 "cells": [
  {
   "cell_type": "code",
   "execution_count": 1,
   "id": "d11d41da-e777-4652-8606-8021ef2e7313",
   "metadata": {},
   "outputs": [],
   "source": [
    "import torch\n",
    "import numpy as np\n",
    "import matplotlib.pyplot as plt\n",
    "\n",
    "from tqdm import tqdm\n",
    "\n",
    "rng = np.random.default_rng()"
   ]
  },
  {
   "cell_type": "code",
   "execution_count": 2,
   "id": "41bd8949-bb1f-4e57-9ab0-dfe293eb9e31",
   "metadata": {},
   "outputs": [],
   "source": [
    "\n",
    "n = 1000 # number of pure points\n",
    "m = 40 # number of corrupted points\n",
    "\n",
    "d = 10 # dimension of noise\n",
    "\n",
    "l = 100 # number of hidden neurons\n",
    "\n",
    "C = 1 # SNR\n",
    "D = C # loss margin\n",
    "\n",
    "test_n = 10 # number of test points\n",
    "\n",
    "use_bias=True\n",
    "\n",
    "EPOCHS = 100 # number of training steps\n",
    "BATCH_SIZE = 1 # batch size\n",
    "LR = 0.01 # learning rate\n",
    "DROPOUT_RATE = 0"
   ]
  },
  {
   "cell_type": "code",
   "execution_count": 3,
   "id": "1efd92e3-66ed-4d37-bd78-301e93dbe562",
   "metadata": {},
   "outputs": [],
   "source": [
    "# initialize parameters\n",
    "\n",
    "X = rng.standard_normal(size=(n+m,d+1))/ np.sqrt(d)\n",
    "\n",
    "\n",
    "y = np.zeros((n+m,1))\n",
    "y[:n//2] = 1\n",
    "y[n//2:n] = -1\n",
    "y[n:n+m//2] = 1\n",
    "y[-m//2:] = -1\n",
    "\n",
    "X[:,0] = C*y.squeeze() # set signal dimension\n",
    "\n",
    "y_train = y.copy()\n",
    "y_train[-m:] = -y_train[-m:]\n",
    "y_train[y_train < 0] = 0\n",
    "\n",
    "X = torch.tensor(X, requires_grad=False)\n",
    "y = torch.tensor(y, requires_grad=False)\n",
    "y_train = torch.tensor(y_train, requires_grad=False)\n",
    "\n",
    "W = torch.tensor(rng.standard_normal(size=(l,d+1)), requires_grad=True)\n",
    "a = torch.tensor(rng.standard_normal(size=(1,l)), requires_grad=True)\n",
    "\n",
    "if use_bias:\n",
    "    b = torch.tensor(rng.standard_normal(size=(l,1)), requires_grad=True)"
   ]
  },
  {
   "cell_type": "code",
   "execution_count": 4,
   "id": "65cb3cd8-16ea-4a5a-a4f3-9caf0f9b3b04",
   "metadata": {},
   "outputs": [
    {
     "name": "stderr",
     "output_type": "stream",
     "text": [
      "100%|█████████████████████████████████████████| 100/100 [00:41<00:00,  2.43it/s]\n"
     ]
    }
   ],
   "source": [
    "# train\n",
    "\n",
    "relu = torch.nn.ReLU()\n",
    "drop = torch.nn.Dropout(p=DROPOUT_RATE)\n",
    "\n",
    "if use_bias:\n",
    "    optimizer = torch.optim.SGD([W,a,b], lr=LR)\n",
    "else:\n",
    "    optimizer = torch.optim.SGD([W,a], lr=LR)\n",
    "\n",
    "# cross entropy loss\n",
    "#loss_fn = torch.nn.BCEWithLogitsLoss()\n",
    "# hinge loss\n",
    "loss_fn = lambda output, y_train : torch.sum(relu(D - (2*y_train-1)*output))\n",
    "\n",
    "losses = np.zeros((EPOCHS,))\n",
    "\n",
    "def model_forward(X, test=False):\n",
    "    preactivations = W @ torch.t(X)\n",
    "    if use_bias:\n",
    "        preactivations = preactivations + b\n",
    "    if not test:\n",
    "        preactivations = drop(preactivations)\n",
    "    return torch.t(a @ relu(preactivations))\n",
    "\n",
    "for i in tqdm(range(EPOCHS)):\n",
    "    indices = np.arange(n+m)\n",
    "    rng.shuffle(indices)\n",
    "    indices = indices.reshape((BATCH_SIZE,-1))\n",
    "    \n",
    "    e_loss = 0\n",
    "    for j in range(indices.shape[1]):\n",
    "        batch_inds = indices[:,j].squeeze()\n",
    "        optimizer.zero_grad()\n",
    "        X_batch = X[batch_inds,:].reshape((-1,d+1))\n",
    "        \n",
    "        # infinite uncorrupted training set, seems to work better\n",
    "        # comment out if undesired\n",
    "        if batch_inds < n:\n",
    "            X_batch[1:] = torch.tensor(rng.standard_normal(size=(1,d+1))/ np.sqrt(d), requires_grad=False)\n",
    "            \n",
    "            \n",
    "        output = model_forward(X_batch)\n",
    "        loss = loss_fn(output, y_train[batch_inds].reshape((-1,1)))\n",
    "        loss.backward()\n",
    "        optimizer.step()\n",
    "        \n",
    "        e_loss += loss.detach().numpy()\n",
    "        \n",
    "    losses[i] = loss_fn(model_forward(X), y_train)\n",
    "    "
   ]
  },
  {
   "cell_type": "code",
   "execution_count": 5,
   "id": "df2531c7-2814-4db3-982d-6f1ff57eee79",
   "metadata": {},
   "outputs": [
    {
     "name": "stdout",
     "output_type": "stream",
     "text": [
      "24.311455928327906\n"
     ]
    },
    {
     "data": {
      "image/png": "[encoded data removed]",
      "text/plain": [
       "<Figure size 432x288 with 1 Axes>"
      ]
     },
     "metadata": {
      "needs_background": "light"
     },
     "output_type": "display_data"
    }
   ],
   "source": [
    "plt.plot(losses)\n",
    "print(losses[-1])"
   ]
  },
  {
   "cell_type": "code",
   "execution_count": 6,
   "id": "85ceb6b1-27f0-4696-ba28-42148ed3ac72",
   "metadata": {},
   "outputs": [
    {
     "name": "stdout",
     "output_type": "stream",
     "text": [
      "999 1000 0.999\n",
      "36 40 0.9\n",
      "1035 1040 0.9951923076923077\n"
     ]
    }
   ],
   "source": [
    "output = model_forward(X, test=True)\n",
    "print(torch.sum((output[:n]>0) == y_train[:n]).item(), n, torch.sum((output[:n]>0) == y_train[:n]).item()/n)\n",
    "print(torch.sum((output[-m:]>0) == y_train[-m:]).item(), m, torch.sum((output[-m:]>0) == y_train[-m:]).item()/m)\n",
    "print(torch.sum((output>0) == y_train).item(), n+m, torch.sum((output>0) == y_train).item()/(n+m))"
   ]
  },
  {
   "cell_type": "code",
   "execution_count": 7,
   "id": "b1d00cd2-0e81-4647-9925-d4f04107fd9b",
   "metadata": {},
   "outputs": [
    {
     "name": "stdout",
     "output_type": "stream",
     "text": [
      "tensor([[ 5.4362],\n",
      "        [ 3.5057],\n",
      "        [ 4.1574],\n",
      "        [ 5.6392],\n",
      "        [ 7.3480],\n",
      "        [-4.4773],\n",
      "        [-2.2879],\n",
      "        [-2.5043],\n",
      "        [-8.1601],\n",
      "        [-4.2102]], dtype=torch.float64, grad_fn=<TBackward>)\n"
     ]
    }
   ],
   "source": [
    "test_X = torch.tensor(rng.standard_normal(size=(test_n,d+1)), requires_grad = False) / np.sqrt(d)\n",
    "test_X[:test_n//2,0] = C\n",
    "test_X[test_n//2:,0] = -C\n",
    "print(model_forward(test_X, test=True))"
   ]
  },
  {
   "cell_type": "code",
   "execution_count": 8,
   "id": "7f8906a4-eeca-484b-ac0d-e2db889bb759",
   "metadata": {},
   "outputs": [
    {
     "name": "stdout",
     "output_type": "stream",
     "text": [
      "[3.29427893 2.1779641  3.39236843 3.32140583 2.99703953 3.37087504\n",
      " 3.4543389  2.93062497 3.31307921 2.94367255 3.73581741 2.63847502\n",
      " 2.68610037 1.70844894 3.49611908 4.33551796 3.06930529 2.48851197\n",
      " 3.11785934 4.10803434 1.37777626 3.79905916 3.13240221 4.10256815\n",
      " 2.38711809 4.26649952 3.38613266 3.65373334 2.25327999 2.82574601\n",
      " 3.78286291 2.75231639 4.14922002 3.32336528 3.73610101 3.10397085\n",
      " 3.71820223 3.61654631 2.83051504 3.77334909 4.28442243 3.18160197\n",
      " 2.90758703 3.70487194 3.84170143 4.6217823  2.88177875 2.08320355\n",
      " 2.21721874 2.54548809 3.55272481 1.9187607  2.67763619 3.19181329\n",
      " 3.25378628 3.18152986 2.41809313 3.89209637 3.63871832 2.5630058\n",
      " 3.26412757 2.63502213 2.13756589 3.47457253 3.02487322 4.06962365\n",
      " 3.3153464  3.22120307 2.72788296 2.26551118 4.26523296 3.98083096\n",
      " 3.92703381 3.79530034 3.17415758 3.09707054 3.56386357 2.18027432\n",
      " 2.40562126 3.1196871  2.33488541 2.76443492 3.10493896 2.64504976\n",
      " 3.75671511 3.05530605 3.94724111 2.53675574 2.80969893 3.44749126\n",
      " 2.71742192 3.35112408 3.6249538  2.6063721  2.12421352 3.99740274\n",
      " 2.4458728  3.48152875 2.68658814 3.20992472]\n"
     ]
    }
   ],
   "source": [
    "print(np.linalg.norm(W.detach().numpy()[:,1:], axis=1))"
   ]
  },
  {
   "cell_type": "code",
   "execution_count": 9,
   "id": "ed5f9b81-423a-45f8-8633-b104d2292db0",
   "metadata": {},
   "outputs": [
    {
     "name": "stdout",
     "output_type": "stream",
     "text": [
      "[ 0.10610926 -0.80414569  0.28668809 -0.25049222 -0.98108926 -1.17024911\n",
      "  0.74240746  0.60944578 -0.04290286 -0.06408065  0.49756071  0.90033487\n",
      "  0.20602317  1.44145342 -0.69863837 -0.21713445  0.29824765 -0.3041391\n",
      "  0.52967948 -1.6558592  -1.73239135  0.31089245 -0.43677266  0.33443072\n",
      " -0.6151374  -0.38995706  0.827352    0.92475406  2.47440967 -2.28121583\n",
      " -0.44809873  2.4199334   0.91308314  0.6233928  -0.66930626 -1.4739356\n",
      " -0.02528747  0.21342447 -0.33760923  0.33260475 -1.58588856 -0.30113667\n",
      "  1.16052901  0.05530491 -0.04088201  0.99376131  1.18010518 -2.44988639\n",
      " -1.03310954  0.23530502  0.68801095 -0.18377965  0.30464257 -0.91654503\n",
      " -0.33078278  0.23840754 -1.06127515  0.75277552  1.26606643  0.02223338\n",
      " -1.18806827  0.28008882  1.55505071  0.8954318   2.72718448 -0.30884742\n",
      "  0.49631016 -1.24315112  0.25065221 -1.52473357  0.01333199 -1.50340556\n",
      " -0.97226911 -0.74781237 -0.12516005 -1.19964256  0.87503372  0.47640999\n",
      "  0.57286732  0.22534123  0.59182816  0.49749038  0.03479441  1.26303913\n",
      "  1.93924604 -0.51717436  1.61136179 -0.93568515  0.92809524 -0.74583291\n",
      "  0.58642901 -0.83173459 -0.73302654 -0.3717427   0.64523068  1.07064592\n",
      " -1.26134377  0.8899675  -0.1621229   0.43489885]\n"
     ]
    }
   ],
   "source": [
    "print(W.detach().numpy()[:,0])"
   ]
  },
  {
   "cell_type": "code",
   "execution_count": 10,
   "id": "6ad8b6f3-d41a-416b-b5bd-0ecb8664bc48",
   "metadata": {},
   "outputs": [
    {
     "name": "stdout",
     "output_type": "stream",
     "text": [
      "[  31.0461011    -2.70841977   11.83295916  -13.25951677   -3.05480823\n",
      "   -2.88047648    4.65288817    4.80867215  -77.22281091  -45.93699293\n",
      "    7.50826443    2.93054852   13.03785593    1.1852266    -5.00418991\n",
      "  -19.96697464   10.29112999   -8.18215082    5.88631326   -2.48090801\n",
      "   -0.79530313   12.21985001   -7.17169938   12.26731847   -3.88062585\n",
      "  -10.94094693    4.09273521    3.95103249    0.91063336   -1.23870174\n",
      "   -8.44203       1.13735212    4.54418642    5.33109348   -5.58204998\n",
      "   -2.1059067  -147.03733091   16.94532186   -8.38399791   11.34484417\n",
      "   -2.70159111  -10.56530914    2.50539798   66.98993105  -93.97046095\n",
      "    4.65079718    2.44196771   -0.8503266    -2.14616035   10.81782309\n",
      "    5.16376199  -10.44055037    8.78943543   -3.48244022   -9.83662547\n",
      "   13.3449215    -2.27847899    5.17032804    2.87403427  115.27736185\n",
      "   -2.74742424    9.40780899    1.37459562    3.88033186    1.10915607\n",
      "  -13.17680961    6.67998894   -2.5911597    10.88313944   -1.48584069\n",
      "  319.92474187   -2.64787565   -4.03903999   -5.07520402  -25.3607897\n",
      "   -2.58166111    4.07283       4.5764664     4.19926426   13.84428014\n",
      "    3.9452084     5.55676059   89.2367245     2.09419464    1.93720396\n",
      "   -5.90769046    2.44963057   -2.71112108    3.02738211   -4.62233727\n",
      "    4.63384636   -4.02907866   -4.94518768   -7.01122605    3.29217689\n",
      "    3.73363656   -1.93910087    3.91197291  -16.57130616    7.3808535 ]\n"
     ]
    }
   ],
   "source": [
    "print(np.linalg.norm(W.detach().numpy()[:,1:], axis=1) / W.detach().numpy()[:,0])"
   ]
  },
  {
   "cell_type": "code",
   "execution_count": 11,
   "id": "2d3cc6fe-c5d9-4686-b61f-d7a011eb9bac",
   "metadata": {},
   "outputs": [
    {
     "data": {
      "text/plain": [
       "[<matplotlib.lines.Line2D at 0x7f43b02d9c70>]"
      ]
     },
     "execution_count": 11,
     "metadata": {},
     "output_type": "execute_result"
    },
    {
     "data": {
      "image/png": "[encoded data removed]",
      "text/plain": [
       "<Figure size 432x288 with 1 Axes>"
      ]
     },
     "metadata": {
      "needs_background": "light"
     },
     "output_type": "display_data"
    }
   ],
   "source": [
    "plt.plot(np.log(np.abs(np.linalg.norm(W.detach().numpy()[:,1:], axis=1) / W.detach().numpy()[:,0])))"
   ]
  },
  {
   "cell_type": "code",
   "execution_count": 12,
   "id": "594ae533-a725-4d5d-9fd4-8a4e65976885",
   "metadata": {},
   "outputs": [
    {
     "name": "stdout",
     "output_type": "stream",
     "text": [
      "[[-0.01069515 -0.46643998 -0.17517561  0.17902391  2.34611064  1.21039558\n",
      "  -0.2114499  -1.00668637 -0.049391    0.05459874  0.30972236 -1.14949871\n",
      "   0.30081013 -0.4478084   0.18360429  0.22107707 -0.40114097 -0.08046094\n",
      "  -0.43580881 -0.52620004  1.35351767  0.59598412  0.07035422  0.32942818\n",
      "  -0.69301036 -0.47054994 -0.94748305  0.68329541  3.13431203  0.40041056\n",
      "  -0.39631121 -0.7005392  -0.46106977  0.069057    0.25182293 -2.11223046\n",
      "   0.02276516  0.46702709  0.09885205 -0.31175756  1.80286073  0.13297209\n",
      "  -1.35686083 -0.04953869  0.07054033  0.26537272  0.6520955   0.46533694\n",
      "  -2.32285172  0.11987266  0.40168439 -0.14226498 -0.16138457 -1.25592032\n",
      "   0.01033011  0.03488843 -0.63021878 -0.40398376  1.64266586 -0.00474453\n",
      "   2.5255142   0.21207564  1.61897711 -1.08251178  2.17945517 -0.13402474\n",
      "  -0.14424499 -0.33229859 -0.38133021  0.57440575  0.0299526   2.37372141\n",
      "  -0.7098449  -1.03188139 -0.06925087  0.60399727  2.08535498 -0.43641281\n",
      "  -0.39999474 -0.34901662 -0.71637182 -0.1845605   0.04548905  0.60666964\n",
      "  -1.28812225 -0.1294101   1.24755124  0.99915282  0.49422629 -0.24204981\n",
      "   0.67088145  0.44502291  0.99848912  0.11599186 -0.69732741  0.97981129\n",
      "   2.08166731 -0.04764384 -0.02752696  0.06509704]]\n"
     ]
    }
   ],
   "source": [
    "print(W.detach().numpy()[:,0] * a.detach().numpy())"
   ]
  },
  {
   "cell_type": "code",
   "execution_count": 13,
   "id": "42eba3bd-f881-43db-96c5-c4f317b21e53",
   "metadata": {},
   "outputs": [
    {
     "name": "stdout",
     "output_type": "stream",
     "text": [
      "[[-0.39035086 -0.48611768 -0.63740161 ...  0.62155864 -0.1101962\n",
      "   0.130968  ]\n",
      " [ 0.75858992  0.84200088  0.3707224  ... -0.58552633 -1.50970886\n",
      "   0.72176887]\n",
      " [-1.26281854 -0.90906456 -2.7739677  ...  1.36036923  1.7347017\n",
      "  -0.48917957]\n",
      " ...\n",
      " [-0.6124366   0.20119976 -0.3359624  ...  0.27263576 -1.46952069\n",
      "  -1.61960898]\n",
      " [ 0.6484516   1.0883205  -0.21034001 ... -1.47708068 -0.32293204\n",
      "   1.26721656]\n",
      " [-1.13205853 -1.77775919  1.47511345 ...  1.38289518  0.70818809\n",
      "  -0.75675077]]\n"
     ]
    }
   ],
   "source": [
    "print((W[:,1:] @ torch.t(X[-m:,1:])).detach().numpy())"
   ]
  },
  {
   "cell_type": "code",
   "execution_count": 14,
   "id": "dcfd84c5-3d23-4114-b958-a0c3de322ce7",
   "metadata": {},
   "outputs": [
    {
     "name": "stdout",
     "output_type": "stream",
     "text": [
      "tensor([[-0.3408],\n",
      "        [-0.0317],\n",
      "        [ 0.7383],\n",
      "        [ 0.7206],\n",
      "        [-1.0845],\n",
      "        [-0.7643],\n",
      "        [ 0.4551],\n",
      "        [-1.3336],\n",
      "        [ 0.0607],\n",
      "        [-0.6888],\n",
      "        [-1.3644],\n",
      "        [ 0.0298],\n",
      "        [ 1.1423],\n",
      "        [ 0.6650],\n",
      "        [-0.3301],\n",
      "        [ 0.3905],\n",
      "        [-1.3722],\n",
      "        [ 0.1072],\n",
      "        [-0.9127],\n",
      "        [ 1.2521],\n",
      "        [ 0.5653],\n",
      "        [-0.9636],\n",
      "        [ 0.2994],\n",
      "        [ 0.4253],\n",
      "        [ 0.5120],\n",
      "        [-0.0971],\n",
      "        [-1.3439],\n",
      "        [-0.4106],\n",
      "        [ 0.2065],\n",
      "        [ 0.6287],\n",
      "        [-0.8623],\n",
      "        [-0.4176],\n",
      "        [ 0.0773],\n",
      "        [ 1.0225],\n",
      "        [ 0.1338],\n",
      "        [ 0.4266],\n",
      "        [-0.4832],\n",
      "        [-1.1098],\n",
      "        [ 0.8383],\n",
      "        [ 0.0110],\n",
      "        [ 0.5958],\n",
      "        [ 0.3645],\n",
      "        [ 0.6053],\n",
      "        [-1.2527],\n",
      "        [-0.8005],\n",
      "        [-1.4077],\n",
      "        [ 0.9118],\n",
      "        [-1.0304],\n",
      "        [-0.4667],\n",
      "        [ 0.1902],\n",
      "        [ 0.4959],\n",
      "        [ 0.9708],\n",
      "        [ 0.6034],\n",
      "        [-0.0322],\n",
      "        [-1.2950],\n",
      "        [-0.7339],\n",
      "        [-0.2365],\n",
      "        [ 1.2263],\n",
      "        [-0.0123],\n",
      "        [-1.2743],\n",
      "        [-1.4708],\n",
      "        [ 0.1888],\n",
      "        [ 0.0276],\n",
      "        [-0.9730],\n",
      "        [ 0.0851],\n",
      "        [-1.2354],\n",
      "        [ 0.5096],\n",
      "        [-0.3587],\n",
      "        [ 0.6041],\n",
      "        [-0.5176],\n",
      "        [-0.2405],\n",
      "        [-0.2742],\n",
      "        [ 0.5742],\n",
      "        [ 0.6402],\n",
      "        [ 1.2742],\n",
      "        [ 0.6639],\n",
      "        [-1.3018],\n",
      "        [-0.1899],\n",
      "        [ 0.4983],\n",
      "        [ 0.7966],\n",
      "        [-0.1237],\n",
      "        [ 0.1962],\n",
      "        [-1.2051],\n",
      "        [ 0.7391],\n",
      "        [-0.4974],\n",
      "        [ 0.0882],\n",
      "        [-1.3420],\n",
      "        [ 1.1957],\n",
      "        [-0.7046],\n",
      "        [ 0.6179],\n",
      "        [ 0.1543],\n",
      "        [ 0.0239],\n",
      "        [-0.9159],\n",
      "        [ 1.3576],\n",
      "        [ 0.6977],\n",
      "        [-0.5806],\n",
      "        [-0.5572],\n",
      "        [ 0.5464],\n",
      "        [-0.9143],\n",
      "        [-1.4313]], dtype=torch.float64, requires_grad=True)\n"
     ]
    }
   ],
   "source": [
    "print(b)"
   ]
  },
  {
   "cell_type": "code",
   "execution_count": 15,
   "id": "6df62383-47f0-4ff8-b7f5-a719c338b354",
   "metadata": {},
   "outputs": [
    {
     "name": "stdout",
     "output_type": "stream",
     "text": [
      "tensor([[-0.1008,  0.5800, -0.6110, -0.7147, -2.3913, -1.0343, -0.2848, -1.6518,\n",
      "          1.1512, -0.8520,  0.6225, -1.2767,  1.4601, -0.3107, -0.2628, -1.0182,\n",
      "         -1.3450,  0.2646, -0.8228,  0.3178, -0.7813,  1.9170, -0.1611,  0.9850,\n",
      "          1.1266,  1.2067, -1.1452,  0.7389,  1.2667, -0.1755,  0.8844, -0.2895,\n",
      "         -0.5050,  0.1108, -0.3762,  1.4331, -0.9003,  2.1883, -0.2928, -0.9373,\n",
      "         -1.1368, -0.4416, -1.1692, -0.8957, -1.7255,  0.2670,  0.5526, -0.1899,\n",
      "          2.2484,  0.5094,  0.5838,  0.7741, -0.5298,  1.3703, -0.0312,  0.1463,\n",
      "          0.5938, -0.5367,  1.2975, -0.2134, -2.1257,  0.7572,  1.0411, -1.2089,\n",
      "          0.7992,  0.4340, -0.2906,  0.2673, -1.5214, -0.3767,  2.2467, -1.5789,\n",
      "          0.7301,  1.3799,  0.5533, -0.5035,  2.3832, -0.9160, -0.6982, -1.5488,\n",
      "         -1.2104, -0.3710,  1.3074,  0.4803, -0.6642,  0.2502,  0.7742, -1.0678,\n",
      "          0.5325,  0.3245,  1.1440, -0.5351, -1.3621, -0.3120, -1.0807,  0.9152,\n",
      "         -1.6504, -0.0535,  0.1698,  0.1497]], dtype=torch.float64,\n",
      "       requires_grad=True)\n"
     ]
    }
   ],
   "source": [
    "print(a)"
   ]
  }
 ],
 "metadata": {
  "kernelspec": {
   "display_name": "Python 3 (ipykernel)",
   "language": "python",
   "name": "python3"
  },
  "language_info": {
   "codemirror_mode": {
    "name": "ipython",
    "version": 3
   },
   "file_extension": ".py",
   "mimetype": "text/x-python",
   "name": "python",
   "nbconvert_exporter": "python",
   "pygments_lexer": "ipython3",
   "version": "3.8.10"
  }
 },
 "nbformat": 4,
 "nbformat_minor": 5
}
